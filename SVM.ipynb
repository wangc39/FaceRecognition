{
 "cells": [
  {
   "cell_type": "code",
   "execution_count": 1,
   "metadata": {},
   "outputs": [
    {
     "name": "stdout",
     "output_type": "stream",
     "text": [
      "['DESCR', 'data', 'images', 'target', 'target_names']\n"
     ]
    }
   ],
   "source": [
    "import numpy as np\n",
    "import pandas as pd\n",
    "import matplotlib.pyplot as plt\n",
    "%matplotlib inline \n",
    "\n",
    "from sklearn.datasets import fetch_lfw_people\n",
    "\n",
    "lfw_people = fetch_lfw_people(min_faces_per_person=1)#筛选出大于70张照片的人\n",
    "print(dir(lfw_people))#查看数据的属性"
   ]
  },
  {
   "cell_type": "code",
   "execution_count": 2,
   "metadata": {},
   "outputs": [
    {
     "name": "stdout",
     "output_type": "stream",
     "text": [
      "(13233, 2914)\n",
      "(13233, 62, 47)\n",
      "(13233,)\n",
      "(5749,)\n"
     ]
    }
   ],
   "source": [
    "print(lfw_people.data.shape)\n",
    "print(lfw_people.images.shape)\n",
    "print(lfw_people.target.shape)\n",
    "print(lfw_people.target_names.shape)\n",
    "\n",
    "# (13233, 2914)\n",
    "# (13233, 62, 47)\n",
    "# (13233,)\n",
    "# (5749,)"
   ]
  },
  {
   "cell_type": "code",
   "execution_count": 3,
   "metadata": {},
   "outputs": [
    {
     "data": {
      "text/plain": [
       "1871    530\n",
       "1047    236\n",
       "5458    144\n",
       "1404    121\n",
       "1892    109\n",
       "       ... \n",
       "2231      1\n",
       "2230      1\n",
       "2229      1\n",
       "2228      1\n",
       "5748      1\n",
       "Length: 5749, dtype: int64"
      ]
     },
     "execution_count": 3,
     "metadata": {},
     "output_type": "execute_result"
    }
   ],
   "source": [
    "#统计各个标签数量\n",
    "target = pd.DataFrame(lfw_people.target)\n",
    "target.value_counts()"
   ]
  },
  {
   "attachments": {},
   "cell_type": "markdown",
   "metadata": {},
   "source": [
    "## 划分数据集"
   ]
  },
  {
   "cell_type": "code",
   "execution_count": 4,
   "metadata": {},
   "outputs": [],
   "source": [
    "#按照8：2划分训练集与测试集\n",
    "from sklearn.model_selection import train_test_split\n",
    "X = lfw_people.data\n",
    "y = lfw_people.target\n",
    "X_train, X_test, y_train, y_test = train_test_split(\n",
    "    X, y, test_size=0.2, random_state=42)"
   ]
  },
  {
   "cell_type": "markdown",
   "metadata": {},
   "source": [
    "## PCA对数据进行降维，提取特征"
   ]
  },
  {
   "cell_type": "code",
   "execution_count": 5,
   "metadata": {},
   "outputs": [
    {
     "name": "stdout",
     "output_type": "stream",
     "text": [
      "Extracting the top 150 eigenfaces from 10586 faces\n",
      "Projecting the input data on the eigenfaces orthonormal basis\n",
      "eigenfaces:\n",
      "  (150, 62, 47)\n",
      "X_train_pca:\n",
      "  (10586, 150)\n",
      "X_test_pca:\n",
      "  (2647, 150)\n"
     ]
    }
   ],
   "source": [
    "from sklearn.decomposition import PCA\n",
    "n_components = 150 #提取的主成分数量\n",
    "print(\"Extracting the top %d eigenfaces from %d faces\"\n",
    "      % (n_components, X_train.shape[0]))\n",
    "pca = PCA(n_components=n_components, svd_solver='randomized', whiten=True).fit(X_train)\n",
    "\n",
    "eigenfaces = pca.components_.reshape((n_components, lfw_people.images.shape[1], lfw_people.images.shape[2])) #低维空间（PCA中的矩阵W） \n",
    "print(\"Projecting the input data on the eigenfaces orthonormal basis\")\n",
    "\n",
    "\n",
    "X_train_pca = pca.transform(X_train) #将训练集投影到低维空间\n",
    "X_test_pca = pca.transform(X_test)\n",
    "\n",
    "\n",
    "print(\"eigenfaces:\\n \",eigenfaces.shape)\n",
    "print(\"X_train_pca:\\n \",X_train_pca.shape)\n",
    "print(\"X_test_pca:\\n \",X_test_pca.shape)"
   ]
  },
  {
   "cell_type": "markdown",
   "metadata": {},
   "source": [
    "## 用SVM模型训练，网格搜索调参"
   ]
  },
  {
   "cell_type": "code",
   "execution_count": 2,
   "metadata": {},
   "outputs": [
    {
     "name": "stdout",
     "output_type": "stream",
     "text": [
      "0\n",
      "NVIDIA GeForce RTX 2080 Ti\n"
     ]
    }
   ],
   "source": [
    "import torch\n",
    "\n",
    "print(torch.cuda.current_device())\n",
    "print(torch.cuda.get_device_name())"
   ]
  },
  {
   "cell_type": "code",
   "execution_count": 6,
   "metadata": {},
   "outputs": [
    {
     "name": "stdout",
     "output_type": "stream",
     "text": [
      "Fitting the classifier to the training set\n"
     ]
    },
    {
     "name": "stderr",
     "output_type": "stream",
     "text": [
      "/home/wangcong/miniconda3/envs/env_py39/lib/python3.9/site-packages/sklearn/model_selection/_split.py:684: UserWarning: The least populated class in y has only 1 members, which is less than n_splits=5.\n",
      "  warnings.warn(\n"
     ]
    }
   ],
   "source": [
    "#用SVM模型训练，网格搜索调参\n",
    "from sklearn.model_selection import GridSearchCV\n",
    "from sklearn.svm import SVC\n",
    "\n",
    "print(\"Fitting the classifier to the training set\")\n",
    "param_grid = {'C': [1e3, 5e3, 1e4, 5e4, 1e5],\n",
    "              'gamma': [0.0001, 0.0005, 0.001, 0.005, 0.01, 0.1], }\n",
    "clf = GridSearchCV(\n",
    "    SVC(kernel='rbf', class_weight='balanced'), param_grid, n_jobs=-1,\n",
    ")\n",
    "clf = clf.fit(X_train_pca, y_train)\n",
    "print(\"Best estimator found by grid search:\")\n",
    "print(clf.best_estimator_)"
   ]
  },
  {
   "attachments": {},
   "cell_type": "markdown",
   "metadata": {},
   "source": [
    "## 测试集，评估模型的效果"
   ]
  },
  {
   "cell_type": "code",
   "execution_count": null,
   "metadata": {},
   "outputs": [],
   "source": [
    "# 在测试集上评估模型效果\n",
    "from sklearn.metrics import classification_report\n",
    "from sklearn.metrics import confusion_matrix\n",
    "\n",
    "print(\"Predicting people's names on the test set\")\n",
    "\n",
    "y_pred = clf.predict(X_test_pca)\n",
    "\n",
    "print(classification_report(y_test, y_pred, target_names=lfw_people.target_names))\n",
    "print(confusion_matrix(y_test, y_pred, labels=range(lfw_people.target_names.shape[0])))"
   ]
  },
  {
   "cell_type": "code",
   "execution_count": null,
   "metadata": {},
   "outputs": [],
   "source": []
  }
 ],
 "metadata": {
  "kernelspec": {
   "display_name": "env_py39",
   "language": "python",
   "name": "python3"
  },
  "language_info": {
   "codemirror_mode": {
    "name": "ipython",
    "version": 3
   },
   "file_extension": ".py",
   "mimetype": "text/x-python",
   "name": "python",
   "nbconvert_exporter": "python",
   "pygments_lexer": "ipython3",
   "version": "3.9.2 (default, Mar  3 2021, 20:02:32) \n[GCC 7.3.0]"
  },
  "orig_nbformat": 4,
  "vscode": {
   "interpreter": {
    "hash": "e4cd3c3b60f3708ca4a619cb7881b0515f998bef18ec656bb5ea43657bff8519"
   }
  }
 },
 "nbformat": 4,
 "nbformat_minor": 2
}
